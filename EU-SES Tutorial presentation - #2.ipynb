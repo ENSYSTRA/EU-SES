{
 "cells": [
  {
   "cell_type": "markdown",
   "metadata": {},
   "source": [
    "# Tutorial presentation on using EU-ESES Modelling Tool - Sessions No.2"
   ]
  },
  {
   "cell_type": "markdown",
   "metadata": {},
   "source": [
    "## Agenda:\n",
    "- Respond to possible installation querries\n",
    "- Build model on local computer\n",
    "- Discussion "
   ]
  },
  {
   "cell_type": "markdown",
   "metadata": {},
   "source": [
    "## Model Formulation\n",
    "![title](img/modelformulation.png) "
   ]
  },
  {
   "cell_type": "markdown",
   "metadata": {},
   "source": [
    "## Build own Model using existing Dataset"
   ]
  },
  {
   "cell_type": "code",
   "execution_count": null,
   "metadata": {},
   "outputs": [],
   "source": [
    "import euses "
   ]
  },
  {
   "cell_type": "code",
   "execution_count": null,
   "metadata": {},
   "outputs": [],
   "source": [
    "eu_ds = euses.Dataset.import_dataset('eu.nc')\n",
    "eu_ds.countries"
   ]
  },
  {
   "cell_type": "markdown",
   "metadata": {},
   "source": [
    "### Filter country"
   ]
  },
  {
   "cell_type": "code",
   "execution_count": null,
   "metadata": {},
   "outputs": [],
   "source": [
    "filt_ds = eu_ds.filter_countries(['Germany'])"
   ]
  },
  {
   "cell_type": "markdown",
   "metadata": {},
   "source": [
    "### See map of selected countries"
   ]
  },
  {
   "cell_type": "code",
   "execution_count": null,
   "metadata": {},
   "outputs": [],
   "source": [
    "import geopandas as gpd\n",
    "import matplotlib.pyplot as plt\n",
    "gpd_geo_all_countries = gpd.GeoDataFrame(eu_ds.ds['geometry'].values, columns=['geometry'], index = eu_ds.ds.coords['nuts_2'])\n",
    "gpd_geo_filtered_countries = gpd.GeoDataFrame(filt_ds.ds['geometry'].values, columns=['geometry'], index = filt_ds.ds.coords['nuts_2'])\n",
    "\n",
    "fig, ax = plt.subplots()\n",
    "gpd_geo_all_countries.plot(ax=ax)\n",
    "gpd_geo_filtered_countries.plot(ax=ax, color='r')"
   ]
  },
  {
   "cell_type": "markdown",
   "metadata": {},
   "source": [
    " ### List variables in dataset"
   ]
  },
  {
   "cell_type": "code",
   "execution_count": null,
   "metadata": {},
   "outputs": [],
   "source": [
    "filt_ds.ds"
   ]
  },
  {
   "cell_type": "code",
   "execution_count": null,
   "metadata": {},
   "outputs": [],
   "source": [
    "import geopandas as gpd\n",
    "\n",
    "gpd_geo = gpd.GeoDataFrame(newdataset.ds['geometry'].values, columns=['geometry'], index = newdataset.ds.coords['nuts_2'])\n",
    "gpd_geo['population'] = newdataset.ds['population']\n",
    "gpd_geo\n",
    "gpd_geo.plot(column='population', legend=True,  cmap='YlOrRd')"
   ]
  },
  {
   "cell_type": "markdown",
   "metadata": {},
   "source": [
    "### List power plants"
   ]
  },
  {
   "cell_type": "code",
   "execution_count": null,
   "metadata": {
    "scrolled": true
   },
   "outputs": [],
   "source": [
    "filt_ds.ds['power_plants'].coords['tech']"
   ]
  },
  {
   "cell_type": "markdown",
   "metadata": {},
   "source": [
    "## Create new Calliope Model"
   ]
  },
  {
   "cell_type": "code",
   "execution_count": null,
   "metadata": {},
   "outputs": [],
   "source": [
    "import calliope\n",
    "filt_ds.create_regions('poli_regions')\n",
    "filt_ds.create_calliope_model(op_mode='plan',sectors=['power','heat'],co2_cap_factor=0.05, national=True)\n",
    "model = calliope.Model('calliope_model/model.yaml',scenario='time_3H',override_dict={'run.solver': 'glpk','run.solver_options.DualReductions': 0} )"
   ]
  },
  {
   "cell_type": "code",
   "execution_count": null,
   "metadata": {},
   "outputs": [],
   "source": [
    "model.run()\n",
    "\n",
    "model.plot.timeseries(subset={'costs': ['monetary']},array='power')#(array='carrier_con')"
   ]
  }
 ],
 "metadata": {
  "kernelspec": {
   "display_name": "euses-tutorial",
   "language": "python",
   "name": "euses-tutorial"
  },
  "language_info": {
   "codemirror_mode": {
    "name": "ipython",
    "version": 3
   },
   "file_extension": ".py",
   "mimetype": "text/x-python",
   "name": "python",
   "nbconvert_exporter": "python",
   "pygments_lexer": "ipython3",
   "version": "3.7.8"
  }
 },
 "nbformat": 4,
 "nbformat_minor": 2
}
